{
 "cells": [
  {
   "cell_type": "code",
   "execution_count": 60,
   "id": "79d008cd",
   "metadata": {},
   "outputs": [],
   "source": [
    "# Import dependies for the project\n",
    "# Request: The requests module allows you to send HTTP requests using Python.\n",
    "# BeautifulSoup: scrape information from web pages. It sits atop an HTML or XML parser, providing Pythonic idioms for iterating, searching, and modifying the parse tree.\n",
    "# Pandas: Pandas is used to analyze data. Learning by Reading.\n",
    "import requests\n",
    "from bs4 import BeautifulSoup\n",
    "import pandas as pd\n",
    "import random"
   ]
  },
  {
   "cell_type": "code",
   "execution_count": 62,
   "id": "2be2625a",
   "metadata": {},
   "outputs": [],
   "source": [
    "#Title and Location \n",
    "title=\"Python Developer\"\n",
    "location=\"Vancouver\"\n",
    "start=0"
   ]
  },
  {
   "cell_type": "code",
   "execution_count": 65,
   "id": "76c2d654",
   "metadata": {},
   "outputs": [],
   "source": [
    "# Construct the URL for LinkedIn job search\n",
    "list_url = f\"https://www.linkedin.com/jobs-guest/jobs/api/seeMoreJobPostings/search?keywords={title}&location={location}&start={start}\"\n",
    "\n",
    "#check the list_url if yes the status will be <Response [200]\n",
    "response = requests.get(list_url)\n",
    "\n",
    "list_data = response.text\n",
    "list_soup = BeautifulSoup(list_data, \"html.parser\")\n",
    "page_jobs = list_soup.find_all(\"li\")"
   ]
  },
  {
   "cell_type": "code",
   "execution_count": 46,
   "id": "906e633a",
   "metadata": {},
   "outputs": [],
   "source": [
    "#for storing the ID of all job in the id_list dictionary\n",
    "id_list = []"
   ]
  },
  {
   "cell_type": "code",
   "execution_count": 67,
   "id": "057940c4",
   "metadata": {},
   "outputs": [
    {
     "name": "stdout",
     "output_type": "stream",
     "text": [
      "4151319481\n",
      "4205268249\n",
      "4200631800\n",
      "4087087003\n",
      "4098608824\n",
      "4172873643\n",
      "4109393088\n",
      "4173693020\n",
      "4189975791\n",
      "4170104952\n"
     ]
    }
   ],
   "source": [
    "#Itetrate through job postings to find job ids\n",
    "\n",
    "for job in page_jobs:\n",
    "    base_card_div = job.find(\"div\", {\"class\": \"base-card\"})\n",
    "    job_id = base_card_div.get(\"data-entity-urn\").split(\":\")[3]\n",
    "    print(job_id)\n",
    "    id_list.append(job_id)  "
   ]
  },
  {
   "cell_type": "code",
   "execution_count": 48,
   "id": "5ff585dd",
   "metadata": {},
   "outputs": [
    {
     "name": "stdout",
     "output_type": "stream",
     "text": [
      "200\n",
      "200\n",
      "200\n",
      "200\n",
      "200\n",
      "200\n",
      "200\n",
      "200\n",
      "200\n",
      "200\n"
     ]
    }
   ],
   "source": [
    "# Initialize an empty list to store job information\n",
    "job_list = []\n",
    "\n",
    "# Loop through the list of job IDs and get each URL\n",
    "for job_id in id_list:\n",
    "    # Construct the URL for each job using the job ID\n",
    "    job_url = f\"https://www.linkedin.com/jobs-guest/jobs/api/jobPosting/{job_id}\"\n",
    "    \n",
    "    # Send a GET request to the job URL and parse the reponse\n",
    "    job_response = requests.get(job_url)\n",
    "    print(job_response.status_code)\n",
    "    job_soup = BeautifulSoup(job_response.text, \"html.parser\")\n",
    "    \n",
    "     # Create a dictionary to store job details\n",
    "    job_post = {}\n",
    "    \n",
    "    # Try to extract and store the job title\n",
    "    try:\n",
    "        job_post[\"job_title\"] = job_soup.find(\"h2\", {\"class\":\"top-card-layout__title font-sans text-lg papabear:text-xl font-bold leading-open text-color-text mb-0 topcard__title\"}).text.strip()\n",
    "    except:\n",
    "        job_post[\"job_title\"] = None\n",
    "        \n",
    "    # Try to extract and store the company name\n",
    "    try:\n",
    "        job_post[\"company_name\"] = job_soup.find(\"a\", {\"class\": \"topcard__org-name-link topcard__flavor--black-link\"}).text.strip()\n",
    "    except:\n",
    "        job_post[\"company_name\"] = None\n",
    "        \n",
    "    # Try to extract and store the time posted\n",
    "    try:\n",
    "        job_post[\"time_posted\"] = job_soup.find(\"span\", {\"class\": \"posted-time-ago__text topcard__flavor--metadata\"}).text.strip()\n",
    "    except:\n",
    "        job_post[\"time_posted\"] = None\n",
    "        \n",
    "    # Try to extract and store the number of applicants\n",
    "    try:\n",
    "        job_post[\"num_applicants\"] = job_soup.find(\"span\", {\"class\": \"num-applicants__caption topcard__flavor--metadata topcard__flavor--bullet\"}).text.strip()\n",
    "    except:\n",
    "        job_post[\"num_applicants\"] = None\n",
    "    \n",
    "        \n",
    "    # Append the job details to the job_list\n",
    "    job_list.append(job_post)"
   ]
  },
  {
   "cell_type": "code",
   "execution_count": 49,
   "id": "a903577c",
   "metadata": {},
   "outputs": [
    {
     "data": {
      "text/html": [
       "<div>\n",
       "<style scoped>\n",
       "    .dataframe tbody tr th:only-of-type {\n",
       "        vertical-align: middle;\n",
       "    }\n",
       "\n",
       "    .dataframe tbody tr th {\n",
       "        vertical-align: top;\n",
       "    }\n",
       "\n",
       "    .dataframe thead th {\n",
       "        text-align: right;\n",
       "    }\n",
       "</style>\n",
       "<table border=\"1\" class=\"dataframe\">\n",
       "  <thead>\n",
       "    <tr style=\"text-align: right;\">\n",
       "      <th></th>\n",
       "      <th>job_title</th>\n",
       "      <th>company_name</th>\n",
       "      <th>time_posted</th>\n",
       "      <th>num_applicants</th>\n",
       "    </tr>\n",
       "  </thead>\n",
       "  <tbody>\n",
       "    <tr>\n",
       "      <th>0</th>\n",
       "      <td>Software Engineer (Intern)</td>\n",
       "      <td>Naptha AI</td>\n",
       "      <td>1 month ago</td>\n",
       "      <td>None</td>\n",
       "    </tr>\n",
       "    <tr>\n",
       "      <th>1</th>\n",
       "      <td>Junior Full Stack Engineer</td>\n",
       "      <td>TrustFlight</td>\n",
       "      <td>None</td>\n",
       "      <td>None</td>\n",
       "    </tr>\n",
       "    <tr>\n",
       "      <th>2</th>\n",
       "      <td>Senior Backend Engineer, Python</td>\n",
       "      <td>Klue</td>\n",
       "      <td>4 months ago</td>\n",
       "      <td>151 applicants</td>\n",
       "    </tr>\n",
       "    <tr>\n",
       "      <th>3</th>\n",
       "      <td>Web developer</td>\n",
       "      <td>Mellenger Interactive Ltd.</td>\n",
       "      <td>3 months ago</td>\n",
       "      <td>None</td>\n",
       "    </tr>\n",
       "    <tr>\n",
       "      <th>4</th>\n",
       "      <td>Backend Developer - API</td>\n",
       "      <td>Proxxi</td>\n",
       "      <td>1 month ago</td>\n",
       "      <td>74 applicants</td>\n",
       "    </tr>\n",
       "    <tr>\n",
       "      <th>5</th>\n",
       "      <td>Web developer</td>\n",
       "      <td>SenseNet Inc.</td>\n",
       "      <td>3 months ago</td>\n",
       "      <td>55 applicants</td>\n",
       "    </tr>\n",
       "    <tr>\n",
       "      <th>6</th>\n",
       "      <td>Full Stack Software Engineer</td>\n",
       "      <td>Rivian</td>\n",
       "      <td>2 weeks ago</td>\n",
       "      <td>133 applicants</td>\n",
       "    </tr>\n",
       "    <tr>\n",
       "      <th>7</th>\n",
       "      <td>Backend Developer</td>\n",
       "      <td>Electronic Arts (EA)</td>\n",
       "      <td>2 weeks ago</td>\n",
       "      <td>52 applicants</td>\n",
       "    </tr>\n",
       "    <tr>\n",
       "      <th>8</th>\n",
       "      <td>Junior Software Developer - Observability</td>\n",
       "      <td>Canonical</td>\n",
       "      <td>1 month ago</td>\n",
       "      <td>None</td>\n",
       "    </tr>\n",
       "    <tr>\n",
       "      <th>9</th>\n",
       "      <td>Full Stack Developer</td>\n",
       "      <td>Later</td>\n",
       "      <td>3 weeks ago</td>\n",
       "      <td>28 applicants</td>\n",
       "    </tr>\n",
       "  </tbody>\n",
       "</table>\n",
       "</div>"
      ],
      "text/plain": [
       "                                   job_title                company_name  \\\n",
       "0                 Software Engineer (Intern)                   Naptha AI   \n",
       "1                 Junior Full Stack Engineer                 TrustFlight   \n",
       "2            Senior Backend Engineer, Python                        Klue   \n",
       "3                              Web developer  Mellenger Interactive Ltd.   \n",
       "4                    Backend Developer - API                      Proxxi   \n",
       "5                              Web developer               SenseNet Inc.   \n",
       "6               Full Stack Software Engineer                      Rivian   \n",
       "7                          Backend Developer        Electronic Arts (EA)   \n",
       "8  Junior Software Developer - Observability                   Canonical   \n",
       "9                       Full Stack Developer                       Later   \n",
       "\n",
       "    time_posted  num_applicants  \n",
       "0   1 month ago            None  \n",
       "1          None            None  \n",
       "2  4 months ago  151 applicants  \n",
       "3  3 months ago            None  \n",
       "4   1 month ago   74 applicants  \n",
       "5  3 months ago   55 applicants  \n",
       "6   2 weeks ago  133 applicants  \n",
       "7   2 weeks ago   52 applicants  \n",
       "8   1 month ago            None  \n",
       "9   3 weeks ago   28 applicants  "
      ]
     },
     "execution_count": 49,
     "metadata": {},
     "output_type": "execute_result"
    }
   ],
   "source": [
    "\n",
    "# Create a pandas DataFrame using the list of job dictionaries 'job_list'\n",
    "jobs_df = pd.DataFrame(job_list)\n",
    "jobs_df"
   ]
  },
  {
   "cell_type": "code",
   "execution_count": 68,
   "id": "55cca22a",
   "metadata": {},
   "outputs": [],
   "source": [
    "#Save data to CSV file\n",
    "jobs_df.to_csv('Vancouver_Python_Developer.csv', index = False)"
   ]
  },
  {
   "cell_type": "code",
   "execution_count": 69,
   "id": "d4cdeb4e",
   "metadata": {},
   "outputs": [],
   "source": [
    "#Future Enhancement: To add more job portals such as indeed,ziprecruiter...etc and allowing the user to add the data from the UI."
   ]
  },
  {
   "cell_type": "code",
   "execution_count": null,
   "id": "cca21531",
   "metadata": {},
   "outputs": [],
   "source": []
  }
 ],
 "metadata": {
  "kernelspec": {
   "display_name": "Python 3 (ipykernel)",
   "language": "python",
   "name": "python3"
  },
  "language_info": {
   "codemirror_mode": {
    "name": "ipython",
    "version": 3
   },
   "file_extension": ".py",
   "mimetype": "text/x-python",
   "name": "python",
   "nbconvert_exporter": "python",
   "pygments_lexer": "ipython3",
   "version": "3.10.9"
  }
 },
 "nbformat": 4,
 "nbformat_minor": 5
}
